{
 "cells": [
  {
   "cell_type": "code",
   "execution_count": 1,
   "metadata": {
    "id": "fTEA_JGYP6di"
   },
   "outputs": [],
   "source": [
    "import numpy as np\n",
    "import matplotlib.pyplot as plt\n",
    "import seaborn as sns\n",
    "import pandas as pd\n",
    "%matplotlib inline "
   ]
  },
  {
   "cell_type": "markdown",
   "metadata": {
    "id": "GNs6yg1QT0I3"
   },
   "source": [
    "# Визуальный анализ рейтингов шоу Netflix\n",
    "<img src=\"https://pp.userapi.com/c854528/v854528797/c62ce/FiPEibYUxJc.jpg\" width=\"40%\">"
   ]
  },
  {
   "cell_type": "markdown",
   "metadata": {
    "id": "JYeFv80TV21w"
   },
   "source": [
    "Netflix за последние 5-10 лет обзавелись большим количеством зрителей. С увеличением числа зрителей увеличилось и разнообразие шоу. Соответственно, перед аналитиками из киноиндустрии встала задача исследования данных с рейтингами различных сериалов.  \n",
    "В данном задании вам предстоит провести визуальный анализ датасета **1000 Netflix Shows** (по состоянию на 11.06.2017) и сделать выводы.  \n",
    "\n"
   ]
  },
  {
   "cell_type": "markdown",
   "metadata": {
    "id": "7TCLul8ycMHW"
   },
   "source": [
    "Описание признаков:\n",
    "* `title` - название шоу.\n",
    "* `rating` - рейтинг шоу. Например: G, PG, TV-14, TV-MA\n",
    "* `ratingLevel` - описание рейтинговой группы и особенностей шоу.\n",
    "* `ratingDescription` - рейтинг шоу, закодированный в числом\n",
    "* `release year` - год выпуска шоу.\n",
    "* `user rating score` - оценка пользователей.\n",
    "* `user_rating_size` - общий рейтинг пользователей"
   ]
  },
  {
   "cell_type": "markdown",
   "metadata": {
    "id": "coqxjUJY4D4B"
   },
   "source": [
    "## Требования к групповому проекту\n",
    "\n",
    "В качестве результата ваша группа должна получить презентацию и защитить ее на дополнительном занятии (**N декабря в M часов**).  \n",
    "Ссылка на шаблон к презентации: [ссылка](https://docs.google.com/presentation/d/1IJRb8SGiHm2BnjQ-MJXXFrzzjCUf1FhCCG6QDHDPin0/edit?usp=sharing).  \n",
    "Вы можете менять оформление презентации, но помните, что результат должен быть релевантен для демонстрации заказчику. Например, вставлять в презентацию строчки кода не стоит :)\n",
    "\n",
    "Помимо презентации, каждому из участников проекта нужно будет сдать свой notebook c решением на проверку. Наши ассистенты проверять ваш код, визуализацию и выводы, после чего вернутся к вам с фидбеком. \n",
    "\n",
    "Вопросы, на которые нужно ответить в презентации: \n",
    "- сколько рейтинговых групп представлено в данных?\n",
    "- какие оценки пользователи ставят чаще всего?\n",
    "- какие оценки пользователи ставят в среднем?\n",
    "- в какие годы были запущены шоу?\n",
    "- можно ли сделать вывод, что 2017 год успешнее для Netflix?\n",
    "- в каких рейтинговых группах запущены шоу на Netflix?\n",
    "- выберите любое шоу (например, самое понравившееся) и составьте его описательный портрет. На какие вопросы о нем вам было бы интересно ответить, если бы вы были заказчиком? Ответьте на эти вопросы :) \n",
    "\n",
    "Вопросы ниже помогут вам ответить на вопросы из презентации и сопроводить выводы релевантной визуализацией. \n",
    "\n",
    "Любой хороший data-scientist должен уметь работать в команде, поэтому распределение ваших усилий в проекте остается за вами. Как пример, вы можете распределить вопросы/слайды между собой.\n",
    "\n",
    "При возникновении каких-либо проблем при выполнении группового проекта обязательно сразу пишите мне (@azukhba). \n"
   ]
  },
  {
   "cell_type": "markdown",
   "metadata": {
    "id": "AZdB2Z9S4D4C"
   },
   "source": [
    "## Решение"
   ]
  },
  {
   "cell_type": "markdown",
   "metadata": {
    "id": "bJJkNLerajEn"
   },
   "source": [
    "Скачайте данные: [ссылка](https://drive.google.com/file/d/1jN8W_OQWm2Wryvn6rrSm58no679X_be_/view?usp=sharing). Загрузите данные, выполнив код ниже."
   ]
  },
  {
   "cell_type": "code",
   "execution_count": 2,
   "metadata": {
    "id": "8Zgk_NN_SSDm"
   },
   "outputs": [],
   "source": [
    "# код ниже менять нельзя, просто запустите ячейку!\n",
    "data = pd.read_csv(\"netflix_data.csv\", encoding='cp437')\n",
    "del data['ratingDescription'], data['user rating size']"
   ]
  },
  {
   "cell_type": "code",
   "execution_count": 3,
   "metadata": {
    "id": "5io1SYsxJOLL"
   },
   "outputs": [
    {
     "data": {
      "text/html": [
       "<div>\n",
       "<style scoped>\n",
       "    .dataframe tbody tr th:only-of-type {\n",
       "        vertical-align: middle;\n",
       "    }\n",
       "\n",
       "    .dataframe tbody tr th {\n",
       "        vertical-align: top;\n",
       "    }\n",
       "\n",
       "    .dataframe thead th {\n",
       "        text-align: right;\n",
       "    }\n",
       "</style>\n",
       "<table border=\"1\" class=\"dataframe\">\n",
       "  <thead>\n",
       "    <tr style=\"text-align: right;\">\n",
       "      <th></th>\n",
       "      <th>title</th>\n",
       "      <th>rating</th>\n",
       "      <th>ratingLevel</th>\n",
       "      <th>release year</th>\n",
       "      <th>user rating score</th>\n",
       "    </tr>\n",
       "  </thead>\n",
       "  <tbody>\n",
       "    <tr>\n",
       "      <th>0</th>\n",
       "      <td>White Chicks</td>\n",
       "      <td>PG-13</td>\n",
       "      <td>crude and sexual humor, language and some drug...</td>\n",
       "      <td>2004</td>\n",
       "      <td>82.0</td>\n",
       "    </tr>\n",
       "    <tr>\n",
       "      <th>1</th>\n",
       "      <td>Lucky Number Slevin</td>\n",
       "      <td>R</td>\n",
       "      <td>strong violence, sexual content and adult lang...</td>\n",
       "      <td>2006</td>\n",
       "      <td>NaN</td>\n",
       "    </tr>\n",
       "    <tr>\n",
       "      <th>2</th>\n",
       "      <td>Grey's Anatomy</td>\n",
       "      <td>TV-14</td>\n",
       "      <td>Parents strongly cautioned. May be unsuitable ...</td>\n",
       "      <td>2016</td>\n",
       "      <td>98.0</td>\n",
       "    </tr>\n",
       "    <tr>\n",
       "      <th>3</th>\n",
       "      <td>Prison Break</td>\n",
       "      <td>TV-14</td>\n",
       "      <td>Parents strongly cautioned. May be unsuitable ...</td>\n",
       "      <td>2008</td>\n",
       "      <td>98.0</td>\n",
       "    </tr>\n",
       "    <tr>\n",
       "      <th>4</th>\n",
       "      <td>How I Met Your Mother</td>\n",
       "      <td>TV-PG</td>\n",
       "      <td>Parental guidance suggested. May not be suitab...</td>\n",
       "      <td>2014</td>\n",
       "      <td>94.0</td>\n",
       "    </tr>\n",
       "    <tr>\n",
       "      <th>...</th>\n",
       "      <td>...</td>\n",
       "      <td>...</td>\n",
       "      <td>...</td>\n",
       "      <td>...</td>\n",
       "      <td>...</td>\n",
       "    </tr>\n",
       "    <tr>\n",
       "      <th>995</th>\n",
       "      <td>The BFG</td>\n",
       "      <td>PG</td>\n",
       "      <td>for action/peril, some scary moments and brief...</td>\n",
       "      <td>2016</td>\n",
       "      <td>97.0</td>\n",
       "    </tr>\n",
       "    <tr>\n",
       "      <th>996</th>\n",
       "      <td>The Secret Life of Pets</td>\n",
       "      <td>PG</td>\n",
       "      <td>for action and some rude humor</td>\n",
       "      <td>2016</td>\n",
       "      <td>NaN</td>\n",
       "    </tr>\n",
       "    <tr>\n",
       "      <th>997</th>\n",
       "      <td>Precious Puppies</td>\n",
       "      <td>TV-G</td>\n",
       "      <td>Suitable for all ages.</td>\n",
       "      <td>2003</td>\n",
       "      <td>NaN</td>\n",
       "    </tr>\n",
       "    <tr>\n",
       "      <th>998</th>\n",
       "      <td>Beary Tales</td>\n",
       "      <td>TV-G</td>\n",
       "      <td>Suitable for all ages.</td>\n",
       "      <td>2013</td>\n",
       "      <td>NaN</td>\n",
       "    </tr>\n",
       "    <tr>\n",
       "      <th>999</th>\n",
       "      <td>Growing Up Wild</td>\n",
       "      <td>G</td>\n",
       "      <td>NaN</td>\n",
       "      <td>2016</td>\n",
       "      <td>80.0</td>\n",
       "    </tr>\n",
       "  </tbody>\n",
       "</table>\n",
       "<p>1000 rows × 5 columns</p>\n",
       "</div>"
      ],
      "text/plain": [
       "                       title rating  \\\n",
       "0               White Chicks  PG-13   \n",
       "1        Lucky Number Slevin      R   \n",
       "2             Grey's Anatomy  TV-14   \n",
       "3               Prison Break  TV-14   \n",
       "4      How I Met Your Mother  TV-PG   \n",
       "..                       ...    ...   \n",
       "995                  The BFG     PG   \n",
       "996  The Secret Life of Pets     PG   \n",
       "997         Precious Puppies   TV-G   \n",
       "998              Beary Tales   TV-G   \n",
       "999          Growing Up Wild      G   \n",
       "\n",
       "                                           ratingLevel  release year  \\\n",
       "0    crude and sexual humor, language and some drug...          2004   \n",
       "1    strong violence, sexual content and adult lang...          2006   \n",
       "2    Parents strongly cautioned. May be unsuitable ...          2016   \n",
       "3    Parents strongly cautioned. May be unsuitable ...          2008   \n",
       "4    Parental guidance suggested. May not be suitab...          2014   \n",
       "..                                                 ...           ...   \n",
       "995  for action/peril, some scary moments and brief...          2016   \n",
       "996                     for action and some rude humor          2016   \n",
       "997                             Suitable for all ages.          2003   \n",
       "998                             Suitable for all ages.          2013   \n",
       "999                                                NaN          2016   \n",
       "\n",
       "     user rating score  \n",
       "0                 82.0  \n",
       "1                  NaN  \n",
       "2                 98.0  \n",
       "3                 98.0  \n",
       "4                 94.0  \n",
       "..                 ...  \n",
       "995               97.0  \n",
       "996                NaN  \n",
       "997                NaN  \n",
       "998                NaN  \n",
       "999               80.0  \n",
       "\n",
       "[1000 rows x 5 columns]"
      ]
     },
     "execution_count": 3,
     "metadata": {},
     "output_type": "execute_result"
    }
   ],
   "source": [
    "data"
   ]
  },
  {
   "cell_type": "markdown",
   "metadata": {},
   "source": [
    "### Чистка данных"
   ]
  },
  {
   "cell_type": "markdown",
   "metadata": {
    "id": "cZqqAjTTjBhv"
   },
   "source": [
    "Удалите из данных дупликаты. "
   ]
  },
  {
   "cell_type": "code",
   "execution_count": 4,
   "metadata": {
    "id": "6lWD2o02jAPr"
   },
   "outputs": [],
   "source": [
    "data = data.drop_duplicates()"
   ]
  },
  {
   "cell_type": "markdown",
   "metadata": {},
   "source": [
    "Посмотрим на количество отсутсвующих значений"
   ]
  },
  {
   "cell_type": "code",
   "execution_count": 24,
   "metadata": {},
   "outputs": [],
   "source": [
    "def count_nan_value(df):\n",
    "    \"\"\"\n",
    "        Функция для подсчета количества пустых значений и возращающий словарь вида:\n",
    "        {\n",
    "            <column name>: percentage\n",
    "        }\n",
    "    \"\"\"\n",
    "    counter = dict()\n",
    "    size = df.shape[0]\n",
    "    \n",
    "    for col in df:\n",
    "        counter[col] = round(df[col].isna().sum() / size, 2)\n",
    "    \n",
    "    return counter"
   ]
  },
  {
   "cell_type": "code",
   "execution_count": 6,
   "metadata": {},
   "outputs": [
    {
     "data": {
      "text/plain": [
       "{'title': 0.0,\n",
       " 'rating': 0.0,\n",
       " 'ratingLevel': 0.07,\n",
       " 'release year': 0.0,\n",
       " 'user rating score': 0.49}"
      ]
     },
     "execution_count": 6,
     "metadata": {},
     "output_type": "execute_result"
    }
   ],
   "source": [
    "count_nan_value(data)"
   ]
  },
  {
   "cell_type": "markdown",
   "metadata": {},
   "source": [
    "Так как __49%__ значений признаков __user rating score__ отсутсвует, то принимаем решения удалить данные с пустыми значениями. Заполнить пустые значения медианой/средним исказило бы выборку."
   ]
  },
  {
   "cell_type": "code",
   "execution_count": 7,
   "metadata": {},
   "outputs": [],
   "source": [
    "data = data.dropna()"
   ]
  },
  {
   "cell_type": "markdown",
   "metadata": {},
   "source": [
    "### Количество рейтинговых групп и гистограмма оценок "
   ]
  },
  {
   "cell_type": "markdown",
   "metadata": {
    "id": "5K45orMVgn0S"
   },
   "source": [
    "Сколько рейтинговых групп представлено в данных?"
   ]
  },
  {
   "cell_type": "code",
   "execution_count": 8,
   "metadata": {
    "id": "ya6irA3YgoSN"
   },
   "outputs": [
    {
     "name": "stdout",
     "output_type": "stream",
     "text": [
      "Количество групп - 12\n",
      "Группы:\n",
      "PG-13\n",
      "TV-14\n",
      "TV-PG\n",
      "TV-MA\n",
      "NR\n",
      "TV-Y\n",
      "TV-Y7-FV\n",
      "PG\n",
      "R\n",
      "TV-G\n",
      "G\n",
      "TV-Y7\n"
     ]
    }
   ],
   "source": [
    "rating = data['rating'].unique()\n",
    "\n",
    "print(f'Количество групп - {len(rating)}')\n",
    "print('Группы:')\n",
    "print('\\n'.join(rating))"
   ]
  },
  {
   "cell_type": "markdown",
   "metadata": {
    "id": "EvQXQnogU8M0"
   },
   "source": [
    "Какие оценки пользователи ставят чаще? Постройте гистограмму оценок."
   ]
  },
  {
   "cell_type": "code",
   "execution_count": 9,
   "metadata": {},
   "outputs": [
    {
     "data": {
      "text/plain": [
       "Text(0.5, 1.0, 'Распределение оценок')"
      ]
     },
     "execution_count": 9,
     "metadata": {},
     "output_type": "execute_result"
    },
    {
     "data": {
      "image/png": "[encoded data removed]",
      "text/plain": [
       "<Figure size 1152x648 with 1 Axes>"
      ]
     },
     "metadata": {
      "needs_background": "light"
     },
     "output_type": "display_data"
    }
   ],
   "source": [
    "dist_user_rating_score = data['user rating score'].value_counts()\n",
    "sort_index = dist_user_rating_score.index.sort_values()\n",
    "dist_user_rating_score[sort_index].plot(kind='bar', label='Оценка пользователей', figsize=(16, 9))\n",
    "plt.legend()\n",
    "plt.title('Распределение оценок')"
   ]
  },
  {
   "cell_type": "markdown",
   "metadata": {
    "id": "HECqgzrEVF2Y"
   },
   "source": [
    "#### Вывод\n",
    "\n",
    "Пользователи макисмальные оценки (__99__, __100__) предпочатают не ставить. Чаще всего предпочитают высокие оценки, а именно -  __97__, __96__, __98__, __95__, __91__."
   ]
  },
  {
   "cell_type": "markdown",
   "metadata": {},
   "source": [
    "### Основаная информация об оценках пользователей"
   ]
  },
  {
   "cell_type": "markdown",
   "metadata": {
    "id": "hctW4a6lW3Yl"
   },
   "source": [
    "Выведите основную информацию об оценках пользователей: среднее, стандартное отклонение, минимум, максимум, медиана. Отличаются ли медиана и среднее? Могут ли данные характеристики значительно отличаться? Почему?"
   ]
  },
  {
   "cell_type": "code",
   "execution_count": 11,
   "metadata": {
    "id": "duGOR-wEnMS7"
   },
   "outputs": [
    {
     "data": {
      "text/plain": [
       "mean    81.390244\n",
       "std     12.677883\n",
       "min     55.000000\n",
       "max     99.000000\n",
       "50%     83.500000\n",
       "Name: user rating score, dtype: float64"
      ]
     },
     "execution_count": 11,
     "metadata": {},
     "output_type": "execute_result"
    }
   ],
   "source": [
    "data['user rating score'].describe()[['mean', 'std', 'min', 'max', '50%']]"
   ]
  },
  {
   "cell_type": "markdown",
   "metadata": {
    "id": "qu6fz54cXAlA"
   },
   "source": [
    "#### Ответ:\n",
    "\n",
    "Среднее значение от медианы отличается несущественно.\n",
    "Значительное отличие характеристик могло быть связано с выбросами в выборке. Например, если бы пользователи ставили рейтинг к шоу, равный 0."
   ]
  },
  {
   "cell_type": "markdown",
   "metadata": {},
   "source": [
    "### Годы запусков шоу и распределение количества шоу в зависимости от года"
   ]
  },
  {
   "cell_type": "markdown",
   "metadata": {
    "id": "o-R-GlguhFVj"
   },
   "source": [
    "В какие годы были запущены шоу, представленные в датасете?"
   ]
  },
  {
   "cell_type": "code",
   "execution_count": 34,
   "metadata": {
    "id": "4s_pPeOthRMd"
   },
   "outputs": [
    {
     "name": "stdout",
     "output_type": "stream",
     "text": [
      "Годы запусков шоу: [2004 2016 2008 2014 2013 2017 2015 2006 2012 2003 2011 2010 1998 1999\n",
      " 1978 2007 2009 2005 2001 1993 2002 2000 1994 1997 1982 1990 1940 1986\n",
      " 1995 1992 1987 1989]\n"
     ]
    }
   ],
   "source": [
    "years = data['release year'].unique()\n",
    "print(f'Годы запусков шоу: {years}')"
   ]
  },
  {
   "cell_type": "markdown",
   "metadata": {
    "id": "OogBeNIShwr7"
   },
   "source": [
    "Постройте график, показывающий распределение количества запущенных шоу в зависимости от года. Наблюдается ли рост? Есть ли выбросы?"
   ]
  },
  {
   "cell_type": "code",
   "execution_count": 37,
   "metadata": {
    "id": "ecreMlHXigV6"
   },
   "outputs": [
    {
     "data": {
      "text/plain": [
       "Text(0.5, 1.0, 'Распределение количества запущенных шоу')"
      ]
     },
     "execution_count": 37,
     "metadata": {},
     "output_type": "execute_result"
    },
    {
     "data": {
      "image/png": "[encoded data removed]",
      "text/plain": [
       "<Figure size 1152x648 with 1 Axes>"
      ]
     },
     "metadata": {
      "needs_background": "light"
     },
     "output_type": "display_data"
    }
   ],
   "source": [
    "dist_count_runn_shows = data.value_counts('release year')\n",
    "sort_index = dist_count_runn_shows.index.sort_values()\n",
    "\n",
    "dist_count_runn_shows[sort_index].plot(kind='bar', figsize=(16, 9))\n",
    "plt.title('Распределение количества запущенных шоу')"
   ]
  },
  {
   "cell_type": "markdown",
   "metadata": {},
   "source": [
    "#### Средний рост в год относительно предыдущего"
   ]
  },
  {
   "cell_type": "code",
   "execution_count": 69,
   "metadata": {
    "scrolled": true
   },
   "outputs": [
    {
     "data": {
      "text/plain": [
       "0.44980040939915045"
      ]
     },
     "execution_count": 69,
     "metadata": {},
     "output_type": "execute_result"
    }
   ],
   "source": [
    "number_of_shows_by_year = data['release year'].value_counts()\n",
    "number_of_shows_by_year = number_of_shows_by_year[number_of_shows_by_year.index.sort_values()] # Сортировка по годам\n",
    "(number_of_shows_by_year[1:] / list(number_of_shows_by_year)[:-1] - 1).mean()"
   ]
  },
  {
   "cell_type": "markdown",
   "metadata": {},
   "source": [
    "#### Средний рост в год относительно предыдущего (без 2016)"
   ]
  },
  {
   "cell_type": "code",
   "execution_count": 74,
   "metadata": {},
   "outputs": [
    {
     "data": {
      "text/plain": [
       "0.41906204906204897"
      ]
     },
     "execution_count": 74,
     "metadata": {},
     "output_type": "execute_result"
    }
   ],
   "source": [
    "number_of_shows_by_year = data['release year'].value_counts()\n",
    "number_of_shows_by_year = number_of_shows_by_year.drop(2016)\n",
    "number_of_shows_by_year = number_of_shows_by_year[number_of_shows_by_year.index.sort_values()] # Сортировка по годам\n",
    "(number_of_shows_by_year[1:] / list(number_of_shows_by_year)[:-1] - 1).mean()"
   ]
  },
  {
   "cell_type": "markdown",
   "metadata": {
    "id": "M1FFJmIGhxUZ"
   },
   "source": [
    "Теперь посмотрим на выброс."
   ]
  },
  {
   "cell_type": "code",
   "execution_count": 14,
   "metadata": {
    "id": "v2gEoNjUYUF0"
   },
   "outputs": [
    {
     "data": {
      "text/html": [
       "<div>\n",
       "<style scoped>\n",
       "    .dataframe tbody tr th:only-of-type {\n",
       "        vertical-align: middle;\n",
       "    }\n",
       "\n",
       "    .dataframe tbody tr th {\n",
       "        vertical-align: top;\n",
       "    }\n",
       "\n",
       "    .dataframe thead th {\n",
       "        text-align: right;\n",
       "    }\n",
       "</style>\n",
       "<table border=\"1\" class=\"dataframe\">\n",
       "  <thead>\n",
       "    <tr style=\"text-align: right;\">\n",
       "      <th></th>\n",
       "      <th>title</th>\n",
       "      <th>rating</th>\n",
       "      <th>ratingLevel</th>\n",
       "      <th>release year</th>\n",
       "      <th>user rating score</th>\n",
       "    </tr>\n",
       "  </thead>\n",
       "  <tbody>\n",
       "    <tr>\n",
       "      <th>2</th>\n",
       "      <td>Grey's Anatomy</td>\n",
       "      <td>TV-14</td>\n",
       "      <td>Parents strongly cautioned. May be unsuitable ...</td>\n",
       "      <td>2016</td>\n",
       "      <td>98.0</td>\n",
       "    </tr>\n",
       "    <tr>\n",
       "      <th>5</th>\n",
       "      <td>Supernatural</td>\n",
       "      <td>TV-14</td>\n",
       "      <td>Parents strongly cautioned. May be unsuitable ...</td>\n",
       "      <td>2016</td>\n",
       "      <td>95.0</td>\n",
       "    </tr>\n",
       "    <tr>\n",
       "      <th>9</th>\n",
       "      <td>Pretty Little Liars</td>\n",
       "      <td>TV-14</td>\n",
       "      <td>Parents strongly cautioned. May be unsuitable ...</td>\n",
       "      <td>2016</td>\n",
       "      <td>96.0</td>\n",
       "    </tr>\n",
       "    <tr>\n",
       "      <th>10</th>\n",
       "      <td>Once Upon a Time</td>\n",
       "      <td>TV-PG</td>\n",
       "      <td>Parental guidance suggested. May not be suitab...</td>\n",
       "      <td>2016</td>\n",
       "      <td>98.0</td>\n",
       "    </tr>\n",
       "    <tr>\n",
       "      <th>11</th>\n",
       "      <td>Sherlock</td>\n",
       "      <td>TV-14</td>\n",
       "      <td>Parents strongly cautioned. May be unsuitable ...</td>\n",
       "      <td>2016</td>\n",
       "      <td>95.0</td>\n",
       "    </tr>\n",
       "    <tr>\n",
       "      <th>...</th>\n",
       "      <td>...</td>\n",
       "      <td>...</td>\n",
       "      <td>...</td>\n",
       "      <td>...</td>\n",
       "      <td>...</td>\n",
       "    </tr>\n",
       "    <tr>\n",
       "      <th>633</th>\n",
       "      <td>Kung Fu Panda 3</td>\n",
       "      <td>PG</td>\n",
       "      <td>martial arts action and some mild rude humor</td>\n",
       "      <td>2016</td>\n",
       "      <td>92.0</td>\n",
       "    </tr>\n",
       "    <tr>\n",
       "      <th>640</th>\n",
       "      <td>Alice Through the Looking Glass</td>\n",
       "      <td>PG</td>\n",
       "      <td>fantasy action/peril and some language</td>\n",
       "      <td>2016</td>\n",
       "      <td>96.0</td>\n",
       "    </tr>\n",
       "    <tr>\n",
       "      <th>645</th>\n",
       "      <td>Goldie &amp; Bear</td>\n",
       "      <td>TV-Y</td>\n",
       "      <td>Suitable for all ages.</td>\n",
       "      <td>2016</td>\n",
       "      <td>77.0</td>\n",
       "    </tr>\n",
       "    <tr>\n",
       "      <th>735</th>\n",
       "      <td>Bunk'd</td>\n",
       "      <td>TV-G</td>\n",
       "      <td>Suitable for all ages.</td>\n",
       "      <td>2016</td>\n",
       "      <td>61.0</td>\n",
       "    </tr>\n",
       "    <tr>\n",
       "      <th>742</th>\n",
       "      <td>The BFG</td>\n",
       "      <td>PG</td>\n",
       "      <td>for action/peril, some scary moments and brief...</td>\n",
       "      <td>2016</td>\n",
       "      <td>97.0</td>\n",
       "    </tr>\n",
       "  </tbody>\n",
       "</table>\n",
       "<p>82 rows × 5 columns</p>\n",
       "</div>"
      ],
      "text/plain": [
       "                               title rating  \\\n",
       "2                     Grey's Anatomy  TV-14   \n",
       "5                       Supernatural  TV-14   \n",
       "9                Pretty Little Liars  TV-14   \n",
       "10                  Once Upon a Time  TV-PG   \n",
       "11                          Sherlock  TV-14   \n",
       "..                               ...    ...   \n",
       "633                  Kung Fu Panda 3     PG   \n",
       "640  Alice Through the Looking Glass     PG   \n",
       "645                    Goldie & Bear   TV-Y   \n",
       "735                           Bunk'd   TV-G   \n",
       "742                          The BFG     PG   \n",
       "\n",
       "                                           ratingLevel  release year  \\\n",
       "2    Parents strongly cautioned. May be unsuitable ...          2016   \n",
       "5    Parents strongly cautioned. May be unsuitable ...          2016   \n",
       "9    Parents strongly cautioned. May be unsuitable ...          2016   \n",
       "10   Parental guidance suggested. May not be suitab...          2016   \n",
       "11   Parents strongly cautioned. May be unsuitable ...          2016   \n",
       "..                                                 ...           ...   \n",
       "633       martial arts action and some mild rude humor          2016   \n",
       "640             fantasy action/peril and some language          2016   \n",
       "645                             Suitable for all ages.          2016   \n",
       "735                             Suitable for all ages.          2016   \n",
       "742  for action/peril, some scary moments and brief...          2016   \n",
       "\n",
       "     user rating score  \n",
       "2                 98.0  \n",
       "5                 95.0  \n",
       "9                 96.0  \n",
       "10                98.0  \n",
       "11                95.0  \n",
       "..                 ...  \n",
       "633               92.0  \n",
       "640               96.0  \n",
       "645               77.0  \n",
       "735               61.0  \n",
       "742               97.0  \n",
       "\n",
       "[82 rows x 5 columns]"
      ]
     },
     "execution_count": 14,
     "metadata": {},
     "output_type": "execute_result"
    }
   ],
   "source": [
    "data[data['release year'] == 2016]"
   ]
  },
  {
   "cell_type": "markdown",
   "metadata": {},
   "source": [
    "#### Вывод\n",
    "\n",
    "В выборке существует выброс по количеству запущенных шоу, а именно 2016 год.\n",
    "\n",
    "В среднем количество запущенных шоу относительно предыдущего года растет на __42%__ (без учета выброса)."
   ]
  },
  {
   "cell_type": "markdown",
   "metadata": {},
   "source": [
    "### Сравнивание средней оценки пользователей в 2016 со средней оценкой в 2017"
   ]
  },
  {
   "cell_type": "markdown",
   "metadata": {
    "id": "5amxoyM7NaQL"
   },
   "source": [
    "Сравните среднюю оценку пользователей в 2016 со средней оценкой в 2017. Можно ли сделать вывод, что 2017 год успешнее для Netflix? (\"Успешнее\" значит, что пользователи в среднем ставили более высокие оценки)  \n",
    "Ответить на этот вопрос вам поможет график, который вы построили выше.\n",
    "\n"
   ]
  },
  {
   "cell_type": "code",
   "execution_count": 15,
   "metadata": {
    "id": "DIaeaVLAWgvu"
   },
   "outputs": [
    {
     "data": {
      "text/plain": [
       "release year\n",
       "2016    85.060976\n",
       "2017    87.000000\n",
       "Name: user rating score, dtype: float64"
      ]
     },
     "execution_count": 15,
     "metadata": {},
     "output_type": "execute_result"
    }
   ],
   "source": [
    "data.groupby('release year')['user rating score'].mean()[[2016, 2017]]"
   ]
  },
  {
   "cell_type": "markdown",
   "metadata": {
    "id": "2YiDfEEWcRXG"
   },
   "source": [
    "#### Вывод\n",
    "\n",
    "Нельзя сказать, что 2017 год успешнее для Netflix, так как за 2016 год в 4 раза больше запущенных шоу, а значит сравнивать не корректно."
   ]
  },
  {
   "cell_type": "markdown",
   "metadata": {},
   "source": [
    "### Распределение шоу по рейтинговым группам"
   ]
  },
  {
   "cell_type": "markdown",
   "metadata": {
    "id": "5dG8K8M-jcYZ"
   },
   "source": [
    "Ниже представлены два графика, показывающие распределение шоу по рейтинговым группам. Какой тип графика визуально более интерпретируемый? ([Подсказка](https://sun9-40.userapi.com/c854228/v854228652/c754f/j6z5gMjJy2k.jpg))  \n",
    "Постройте самостоятельно график, который считаете более интерпретируемым. Сделайте вывод."
   ]
  },
  {
   "cell_type": "markdown",
   "metadata": {
    "id": "6am-k3o-pcWC"
   },
   "source": [
    "![Charts](https://pp.userapi.com/c852024/v852024281/1a53b1/jSOsBIhxK3U.jpg)"
   ]
  },
  {
   "cell_type": "code",
   "execution_count": 16,
   "metadata": {
    "id": "SR7y2Wt9uQ4i"
   },
   "outputs": [
    {
     "data": {
      "text/plain": [
       "Text(0.5, 1.0, 'Распределение рейтингов')"
      ]
     },
     "execution_count": 16,
     "metadata": {},
     "output_type": "execute_result"
    },
    {
     "data": {
      "image/png": "[encoded data removed]",
      "text/plain": [
       "<Figure size 1152x648 with 1 Axes>"
      ]
     },
     "metadata": {},
     "output_type": "display_data"
    }
   ],
   "source": [
    "data['rating'].value_counts().plot(kind='pie', label='Оценка пользователей', figsize=(16, 9), autopct='%1.0f%%')\n",
    "plt.title('Распределение рейтингов')"
   ]
  },
  {
   "cell_type": "markdown",
   "metadata": {
    "id": "QVvsZTwhl9JE"
   },
   "source": [
    "#### Вывод\n",
    "\n",
    "Визуально интепретировать проще диаграмму"
   ]
  },
  {
   "cell_type": "markdown",
   "metadata": {},
   "source": [
    "### Сравнивание шоу"
   ]
  },
  {
   "cell_type": "markdown",
   "metadata": {
    "id": "eWCSRMOse3fv"
   },
   "source": [
    "Теперь вам нужно выбрать любое из представленных шоу и при помощи изученных инструментов составить описательный портрет этого шоу :) Аналитики и data-scientist-ы очень любят все сравнивать, поэтому при составлении описательного портрета рекомендуем вам сравнить выбранное шоу с другими по каким-либо характеристикам. Результаты не забудьте внести в презентацию. При возникновении трудностей обязательно пишите в чат, преподавателю или ассистентам."
   ]
  },
  {
   "cell_type": "markdown",
   "metadata": {},
   "source": [
    "#### Сравним 10 самых лудших и худших по пользовательскому рейтингу"
   ]
  },
  {
   "cell_type": "code",
   "execution_count": 17,
   "metadata": {},
   "outputs": [],
   "source": [
    "worst_shows = data.sort_values('user rating score').dropna()[:10]"
   ]
  },
  {
   "cell_type": "code",
   "execution_count": 79,
   "metadata": {},
   "outputs": [],
   "source": [
    "best_shows = data.sort_values('user rating score').dropna()[-10:]"
   ]
  },
  {
   "cell_type": "code",
   "execution_count": 19,
   "metadata": {},
   "outputs": [
    {
     "data": {
      "text/plain": [
       "<AxesSubplot:ylabel='rating'>"
      ]
     },
     "execution_count": 19,
     "metadata": {},
     "output_type": "execute_result"
    },
    {
     "data": {
      "image/png": "[encoded data removed]",
      "text/plain": [
       "<Figure size 1152x648 with 1 Axes>"
      ]
     },
     "metadata": {},
     "output_type": "display_data"
    }
   ],
   "source": [
    "worst_shows['rating'].value_counts().plot(kind='pie', figsize=(16, 9), autopct='%1.0f%%')"
   ]
  },
  {
   "cell_type": "code",
   "execution_count": 20,
   "metadata": {},
   "outputs": [
    {
     "data": {
      "text/plain": [
       "<AxesSubplot:ylabel='rating'>"
      ]
     },
     "execution_count": 20,
     "metadata": {},
     "output_type": "execute_result"
    },
    {
     "data": {
      "image/png": "[encoded data removed]",
      "text/plain": [
       "<Figure size 1152x648 with 1 Axes>"
      ]
     },
     "metadata": {},
     "output_type": "display_data"
    }
   ],
   "source": [
    "best_shows['rating'].value_counts().plot(kind='pie', figsize=(16, 9), autopct='%1.0f%%')"
   ]
  },
  {
   "cell_type": "markdown",
   "metadata": {},
   "source": [
    "Лудшие и худшие шоу имееют разные соотношения рейтингов"
   ]
  },
  {
   "cell_type": "markdown",
   "metadata": {},
   "source": [
    "Изменим выборки и посмотрим на результат"
   ]
  },
  {
   "cell_type": "code",
   "execution_count": 81,
   "metadata": {},
   "outputs": [],
   "source": [
    "worst_shows_2 = data.sort_values('user rating score').dropna()[10:20]\n",
    "best_shows_2 = data.sort_values('user rating score').dropna()[-20:-10]"
   ]
  },
  {
   "cell_type": "code",
   "execution_count": 76,
   "metadata": {},
   "outputs": [
    {
     "data": {
      "text/plain": [
       "<AxesSubplot:ylabel='rating'>"
      ]
     },
     "execution_count": 76,
     "metadata": {},
     "output_type": "execute_result"
    },
    {
     "data": {
      "image/png": "[encoded data removed]",
      "text/plain": [
       "<Figure size 1152x648 with 1 Axes>"
      ]
     },
     "metadata": {},
     "output_type": "display_data"
    }
   ],
   "source": [
    "worst_shows_2['rating'].value_counts().plot(kind='pie', figsize=(16, 9), autopct='%1.0f%%')"
   ]
  },
  {
   "cell_type": "code",
   "execution_count": 77,
   "metadata": {},
   "outputs": [
    {
     "data": {
      "text/plain": [
       "<AxesSubplot:ylabel='rating'>"
      ]
     },
     "execution_count": 77,
     "metadata": {},
     "output_type": "execute_result"
    },
    {
     "data": {
      "image/png": "[encoded data removed]",
      "text/plain": [
       "<Figure size 1152x648 with 1 Axes>"
      ]
     },
     "metadata": {},
     "output_type": "display_data"
    }
   ],
   "source": [
    "best_shows_2['rating'].value_counts().plot(kind='pie', figsize=(16, 9), autopct='%1.0f%%')"
   ]
  },
  {
   "cell_type": "markdown",
   "metadata": {
    "id": "VssCIoTX4D4L"
   },
   "source": [
    "#### Вывод\n",
    "Существует зависимость между пользовательской оценкой и рейтингом"
   ]
  }
 ],
 "metadata": {
  "colab": {
   "collapsed_sections": [],
   "provenance": []
  },
  "kernelspec": {
   "display_name": "Python 3 (ipykernel)",
   "language": "python",
   "name": "python3"
  },
  "language_info": {
   "codemirror_mode": {
    "name": "ipython",
    "version": 3
   },
   "file_extension": ".py",
   "mimetype": "text/x-python",
   "name": "python",
   "nbconvert_exporter": "python",
   "pygments_lexer": "ipython3",
   "version": "3.9.12"
  }
 },
 "nbformat": 4,
 "nbformat_minor": 1
}
